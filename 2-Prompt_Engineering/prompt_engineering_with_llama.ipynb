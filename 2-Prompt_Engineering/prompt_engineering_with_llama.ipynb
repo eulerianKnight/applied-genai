{
 "cells": [
  {
   "cell_type": "markdown",
   "id": "b0b95643-91a2-45d7-a6a9-a5ac6ce230c2",
   "metadata": {},
   "source": [
    "# Prompt Engineering with Llama\n",
    "\n",
    "- Llama is a collection of models. These are LLMs based on Transformer Architecture.\n",
    "- Different base model variations:\n",
    "    - Llama 7 Billion\n",
    "    - Llama 13 Billion\n",
    "    - Llama 70 Billion\n",
    "- All three variations base model have been Instruction tuned to provide chat variation models\n",
    "    - Llama 7B Chat\n",
    "    - Llama 13B Chat\n",
    "    - Llama 70B Chat\n",
    "- Llama can be accessed through:\n",
    "    - Downloading on local computer.\n",
    "    - Host on Cloud(e.g., AWS SageMaker JumpStart Models)\n",
    "    - Third Party Services(e.g. HuggingFace)\n",
    "- Code Llama\n",
    "   - Code training on base Llama model:\n",
    "        - Code Llama 7B/13B/34B\n",
    "        - Code Llama - Instruct 7B/13B/34B\n",
    "        - Code - Llama - Python 7B/13B/34B\n",
    "- Purple Llama: Responsible AI\n",
    "    - Tools\n",
    "    - Models\n",
    "    - Benchmark\n",
    "    - CyberSecEval: Tools and benchmark dataset for evaluating cybersecurity risks for LLM Output.\n",
    "    - Llama Gaurd: Safety Classifier Model\n",
    "- Hosted API Services to access Llama Models\n",
    "    - Amazon Bedrock\n",
    "    - Anyscale\n",
    "    - Google Cloud\n",
    "    - Microsoft Azure\n",
    "    - Replicate\n",
    "    - Together.ai\n",
    "- Prompting:\n",
    "    - `[INST]`, `[/INST]`: Start and End Instruction tags."
   ]
  },
  {
   "cell_type": "markdown",
   "id": "41d80646-f680-418d-93ce-d07d84ffcf62",
   "metadata": {},
   "source": [
    "## Prompt Engineering\n",
    "\n",
    "- Prompts involve instructions and context passed to a language model to achieve a desired task.\n",
    "- Prompt Engineering is the practice of developing and optimizing prompts to effeciently use language models for a variety of applications.\n",
    "- A Prompt is composed with the following components:\n",
    "    - Instructions\n",
    "    - Context\n",
    "    - Input Data\n",
    "    - Output Indicator\n",
    "- One important setting to control the deterministic behavior model is: **Temperature** and **top_p**. Generally, keep those low if looking for exact answers."
   ]
  },
  {
   "cell_type": "code",
   "execution_count": 1,
   "id": "10c7e974-d348-48d8-a744-072ac6ff54a8",
   "metadata": {},
   "outputs": [],
   "source": [
    "import os\n",
    "import time\n",
    "\n",
    "import requests"
   ]
  },
  {
   "cell_type": "code",
   "execution_count": 2,
   "id": "5c0f0947-30fd-44bc-8c14-b53d730ff438",
   "metadata": {},
   "outputs": [
    {
     "name": "stdin",
     "output_type": "stream",
     "text": [
      " ········\n"
     ]
    }
   ],
   "source": [
    "# Get Together AI API\n",
    "from getpass import getpass\n",
    "\n",
    "TOGETHER_API_BASE = getpass()"
   ]
  },
  {
   "cell_type": "code",
   "execution_count": 3,
   "id": "afbaef6a-03f8-4c0e-a85e-792d9b25d3b6",
   "metadata": {},
   "outputs": [],
   "source": [
    "# Together AI API rest api info\n",
    "url = \"https://api.together.xyz/inference\"\n",
    "headers = {\n",
    "    \"Authorization\": f\"Bearer {TOGETHER_API_BASE}\", \n",
    "    \"Content-Type\": \"application/json\"\n",
    "}"
   ]
  },
  {
   "cell_type": "code",
   "execution_count": 4,
   "id": "27b22e9a-f797-4458-b466-87376d03b6c4",
   "metadata": {},
   "outputs": [],
   "source": [
    "def llama(prompt, \n",
    "          add_inst=True, \n",
    "          model=\"togethercomputer/llama-2-7b-chat\", \n",
    "          temperature=0.0, \n",
    "          max_tokens=1024,\n",
    "          verbose=False,\n",
    "          url=url,\n",
    "          headers=headers,\n",
    "          base = 2, # number of seconds to wait\n",
    "          max_tries=3):\n",
    "    \n",
    "    if add_inst:\n",
    "        prompt = f\"[INST]{prompt}[/INST]\"\n",
    "\n",
    "    if verbose:\n",
    "        print(f\"Prompt:\\n{prompt}\\n\")\n",
    "        print(f\"model: {model}\")\n",
    "\n",
    "    data = {\n",
    "            \"model\": model,\n",
    "            \"prompt\": prompt,\n",
    "            \"temperature\": temperature,\n",
    "            \"max_tokens\": max_tokens\n",
    "        }\n",
    "\n",
    "    # Allow multiple attempts to call the API incase of downtime.\n",
    "    # Return provided response to user after 3 failed attempts.    \n",
    "    wait_seconds = [base**i for i in range(max_tries)]\n",
    "\n",
    "    for num_tries in range(max_tries):\n",
    "        try:\n",
    "            response = requests.post(url, headers=headers, json=data)\n",
    "            return response.json()['output']['choices'][0]['text']\n",
    "        except Exception as e:\n",
    "            if response.status_code != 500:\n",
    "                return response.json()\n",
    "\n",
    "            print(f\"error message: {e}\")\n",
    "            print(f\"response object: {response}\")\n",
    "            print(f\"num_tries {num_tries}\")\n",
    "            print(f\"Waiting {wait_seconds[num_tries]} seconds before automatically trying again.\")\n",
    "            time.sleep(wait_seconds[num_tries])\n",
    "            \n",
    "    print(f\"Tried {max_tries} times to make API call to get a valid response object\")\n",
    "    print(\"Returning provided response\")\n",
    "    return response"
   ]
  },
  {
   "cell_type": "code",
   "execution_count": 5,
   "id": "f728adca-7851-4027-a346-d149fc92dfd9",
   "metadata": {},
   "outputs": [
    {
     "name": "stdout",
     "output_type": "stream",
     "text": [
      "Prompt:\n",
      "[INST]Help me write a birthday card for my dear friend Ayush.[/INST]\n",
      "\n",
      "model: togethercomputer/llama-2-7b-chat\n",
      "  Of course, I'd be happy to help you write a birthday card for your dear friend Ayush! Here are a few suggestions:\n",
      "\n",
      "1. Personalized Message: Start by writing a personalized message that expresses your feelings towards Ayush. You could say something like, \"Dear Ayush, happy birthday to an amazing friend! I'm so grateful for the adventures we've shared and the memories we've made together. Here's to another year of laughter, fun, and making new memories. Cheers, mate!\"\n",
      "2. Funny Quote: If you want to add a bit of humor to your card, you could use a funny quote that relates to Ayush. For example, \"Happy birthday to the friend who's always up for a good time... even if it's just a couch marathon of their favorite TV show. Here's to another year of binge-watching and good times, Ayush!\"\n",
      "3. Inside Joke: If you and Ayush share an inside joke or a common interest, you could incorporate that into the card. For example, \"Remember that time we went on a road trip and got lost in the middle of nowhere? Happy birthday to the friend who always makes me laugh, even in the most unexpected situations. Here's to another year of adventures and good times, Ayush!\"\n",
      "4. Heartfelt Message: If you want to write a more heartfelt message, you could say something like, \"Dear Ayush, happy birthday to an amazing friend who brings so much joy and love into my life. I'm so grateful for the day we met and for all the memories we've shared together. Here's to another year of friendship, laughter, and making new memories. I love you, mate!\"\n",
      "5. Funny Image: If you want to add a bit of humor to your card, you could use a funny image that relates to Ayush. For example, a picture of a cake with candles that look like Ayush's favorite food, or a cartoon of Ayush doing something silly.\n",
      "\n",
      "Remember, the most important thing is to be sincere and genuine in your message. Write from the heart and let Ayush know how much they mean to you. Happy birthday, Ayush!\n"
     ]
    }
   ],
   "source": [
    "prompt = \"Help me write a birthday card for my dear friend Ayush.\"\n",
    "response = llama(prompt=prompt, verbose=True)\n",
    "print(response)"
   ]
  },
  {
   "cell_type": "code",
   "execution_count": 6,
   "id": "a49db6dd-2a59-4e23-8243-f54512b0f8d8",
   "metadata": {},
   "outputs": [
    {
     "name": "stdout",
     "output_type": "stream",
     "text": [
      "Response from Chat Model:\n",
      "  The capital of France is Paris.\n",
      "Response from Base/Foundation Model:\n",
      "\n",
      "10. What is the capital of Germany?\n",
      "11. What is the capital of Greece?\n",
      "12. What is the capital of Hungary?\n",
      "13. What is the capital of Iceland?\n",
      "14. What is the capital of India?\n",
      "15. What is the capital of Indonesia?\n",
      "16. What is the capital of Iran?\n",
      "17. What is the capital of Iraq?\n",
      "18. What is the capital of Ireland?\n",
      "19. What is the capital of Israel?\n",
      "20. What is the capital of Italy?\n",
      "21. What is the capital of Japan?\n",
      "22. What is the capital of Jordan?\n",
      "23. What is the capital of Kazakhstan?\n",
      "24. What is the capital of Kenya?\n",
      "25. What is the capital of Kuwait?\n",
      "26. What is the capital of Kyrgyzstan?\n",
      "27. What is the capital of Laos?\n",
      "28. What is the capital of Latvia?\n",
      "29. What is the capital of Lebanon?\n",
      "30. What is the capital of Lesotho?\n",
      "31. What is the capital of Liberia?\n",
      "32. What is the capital of Libya?\n",
      "33. What is the capital of Liechtenstein?\n",
      "34. What is the capital of Lithuania?\n",
      "35. What is the capital of Luxembourg?\n",
      "36. What is the capital of Macedonia?\n",
      "37. What is the capital of Madagascar?\n",
      "38. What is the capital of Malawi?\n",
      "39. What is the capital of Malaysia?\n",
      "40. What is the capital of Maldives?\n",
      "41. What is the capital of Mali?\n",
      "42. What is the capital of Malta?\n",
      "43. What is the capital of Marshall Islands?\n",
      "44. What is the capital of Mauritania?\n",
      "45. What is the capital of Mauritius?\n",
      "46. What is the capital of Mexico?\n",
      "47. What is the capital of Micronesia?\n",
      "48. What is the capital of Moldova?\n",
      "49. What is the capital of Monaco?\n",
      "50. What is the capital of Mongolia?\n",
      "51. What is the capital of Montenegro?\n",
      "52. What is the capital of Morocco?\n",
      "53. What is the capital of Mozambique?\n",
      "54. What is the capital of Myanmar?\n",
      "55. What is the capital of Namibia?\n",
      "56. What is the capital of Nauru?\n",
      "57. What is the capital of Nepal?\n",
      "58. What is the capital of Netherlands?\n",
      "59. What is the capital of New Zealand?\n",
      "60. What is the capital of Nicaragua?\n",
      "61. What is the capital of Niger?\n",
      "62. What is the capital of Nigeria?\n",
      "63. What is the capital of Norway?\n",
      "64. What is the capital of Oman?\n",
      "65. What is the capital of Pakistan?\n",
      "66. What is the capital of Palau?\n",
      "67. What is the capital of Palestine?\n",
      "68. What is the capital of Panama?\n",
      "69. What is the capital of Papua New Guinea?\n",
      "70. What is the capital of Paraguay?\n",
      "71. What is the capital of Peru?\n",
      "72. What is the capital of Philippines?\n",
      "73. What is the capital of Poland?\n",
      "74. What is the capital of Portugal?\n",
      "75. What is the capital of Qatar?\n",
      "76. What is the capital of Romania?\n",
      "77. What is the capital of Russia?\n",
      "78. What is the capital of Rwanda?\n",
      "79. What is the capital of Saint Kitts and Nevis?\n",
      "80. What is the capital of Saint Lucia?\n",
      "81. What is the capital of Saint Vincent and the Grenadines?\n",
      "82. What is the capital of Samoa?\n",
      "83. What is the capital of San Marino?\n",
      "84. What is the capital of Sao Tome and Principe?\n",
      "85. What is the capital of Saudi Arabia?\n",
      "86. What is the capital of Senegal?\n",
      "87. What is the capital of Serbia?\n",
      "88. What is the capital of Seychelles?\n",
      "89. What is the capital of Sierra Leone?\n",
      "90. What is the capital of Singapore?\n",
      "91. What is the capital of Slovakia?\n",
      "92. What is the capital of Sloven\n"
     ]
    }
   ],
   "source": [
    "# Difference between Chat and Base model\n",
    "prompt = \"What is the capital of France?\"\n",
    "response = llama(prompt, model=\"togethercomputer/llama-2-7b-chat\")\n",
    "print(f\"Response from Chat Model:\\n{response}\")\n",
    "response = llama(prompt, add_inst=False, model=\"togethercomputer/llama-2-7b\")\n",
    "print(f\"Response from Base/Foundation Model:\\n{response}\")"
   ]
  },
  {
   "cell_type": "markdown",
   "id": "b01f853e-76f5-4779-9f51-fe66ca98d0c9",
   "metadata": {},
   "source": [
    "### A More Deterministic Response."
   ]
  },
  {
   "cell_type": "code",
   "execution_count": 7,
   "id": "c4dcc799-6b19-416d-ad52-4ad25b235333",
   "metadata": {},
   "outputs": [
    {
     "name": "stdout",
     "output_type": "stream",
     "text": [
      "  Of course! Here's a birthday card message for your friend Ayush:\n",
      "\n",
      "\"Happy birthday to an amazing friend like you, Ayush! 🎉\n",
      "\n",
      "I hope your day is filled with solo adventures, solving logical problems, and long walks on the beach. 🌊🚶‍♂️ You know how to make the most of your time and space, and I admire that about you. 😊\n",
      "\n",
      "I also noticed that you enjoy playing video games and that's totally cool! 😜 Who knows, maybe we can have a gaming session together soon. 🎮\n",
      "\n",
      "On a more serious note, I'm grateful for your friendship, Ayush. You're always there for me, and I appreciate your support and encouragement. 💕\n",
      "\n",
      "Here's to another year of adventures, puzzles, and blue skies! 🥳 Cheers, my friend! 🥂\"\n",
      "\n",
      "I hope you find this message suitable for your friend Ayush. Feel free to modify it as per your preference!\n"
     ]
    }
   ],
   "source": [
    "prompt = \"\"\"\n",
    "Help me write a birthday card for my friend Ayush.\n",
    "Here are details about my friend.\n",
    "He likes to do solo trips.\n",
    "He likes to solve logical problems.\n",
    "He likes long walks on beach alone.\n",
    "His hobbies include Playing Video Games.\n",
    "His favorite color is blue.\n",
    "\"\"\"\n",
    "response = llama(prompt=prompt, temperature=0.0)\n",
    "print(response)"
   ]
  },
  {
   "cell_type": "code",
   "execution_count": 8,
   "id": "498ac2b8-8fa5-4b6e-9d4e-ea9977083ca9",
   "metadata": {},
   "outputs": [
    {
     "name": "stdout",
     "output_type": "stream",
     "text": [
      "  Of course! Here's a birthday card message for your friend Ayush:\n",
      "\n",
      "\"Happy birthday to an amazing friend like you, Ayush! 🎉\n",
      "\n",
      "I hope your day is filled with solo adventures, solving logical problems, and long walks on the beach. 🌊🚶‍♂️ You know how to make the most of your time and space, and I admire that about you. 😊\n",
      "\n",
      "I also noticed that you enjoy playing video games and that's totally cool! 😜 Who knows, maybe we can have a gaming session together soon. 🎮\n",
      "\n",
      "On a more serious note, I'm grateful for your friendship, Ayush. You're always there for me, and I appreciate your support and encouragement. 💕\n",
      "\n",
      "Here's to another year of adventures, puzzles, and blue skies! 🥳 Cheers, my friend! 🥂\"\n",
      "\n",
      "I hope you find this message suitable for your friend Ayush. Feel free to modify it as per your preference!\n"
     ]
    }
   ],
   "source": [
    "prompt = \"\"\"\n",
    "Help me write a birthday card for my friend Ayush.\n",
    "Here are details about my friend.\n",
    "He likes to do solo trips.\n",
    "He likes to solve logical problems.\n",
    "He likes long walks on beach alone.\n",
    "His hobbies include Playing Video Games.\n",
    "His favorite color is blue.\n",
    "\"\"\"\n",
    "response = llama(prompt=prompt, temperature=0.0)\n",
    "print(response)"
   ]
  },
  {
   "cell_type": "code",
   "execution_count": 9,
   "id": "30242ab7-b48e-4105-aef2-2e60950987a7",
   "metadata": {},
   "outputs": [
    {
     "name": "stdout",
     "output_type": "stream",
     "text": [
      "  Of course! Here's a birthday card message for your friend Ayush:\n",
      "\n",
      "\"Happy birthday to an amazing friend like you, Ayush! 🎉 On your special day, I hope you get to do something that brings you solo joy, whether it's a long beach walk, solving a tricky logical problem, or immersing yourself in your favorite video game. May your day be as bright and blue as your favorite color. Here's to another year of adventures, games, and making memories together! 🌊🕹️🎮❤️\"\n"
     ]
    }
   ],
   "source": [
    "prompt = \"\"\"\n",
    "Help me write a birthday card for my friend Ayush.\n",
    "Here are details about my friend.\n",
    "He likes to do solo trips.\n",
    "He likes to solve logical problems.\n",
    "He likes long walks on beach alone.\n",
    "His hobbies include Playing Video Games.\n",
    "His favorite color is blue.\n",
    "\"\"\"\n",
    "response = llama(prompt=prompt, temperature=1.0)\n",
    "print(response)"
   ]
  },
  {
   "cell_type": "code",
   "execution_count": 10,
   "id": "f5ec5151-c389-433a-a4a7-bca311e39cf4",
   "metadata": {},
   "outputs": [
    {
     "name": "stdout",
     "output_type": "stream",
     "text": [
      "  Of course, I'd be happy to help you write a birthday card for your friend Ayush! Here's a suggestion:\n",
      "\n",
      "\"Happy birthday to our favorite solo adventurer, Ayush! 🎉\n",
      "\n",
      "You're always off on some new adventure, exploring new lands and solving puzzles like a pro. We're so jealous of your ability to take long walks on the beach alone and find peace in the quiet moments. 🏖️\n",
      "\n",
      "But we're also super glad that you have video games to keep you company when you need it! 🕹️ We know you're the master of escaping into virtual worlds and tackling challenges with ease.\n",
      "\n",
      "Here's to another year of solo travels, logical problem-solving, and perhaps even a few beach strolls with a controller in hand. 😂\n",
      "\n",
      "Cheers, Ayush! Have an amazing day and an even more amazing year. Your favorite blue-loving friend 💙\"\n",
      "\n",
      "I hope this helps inspire you to write a fun and personalized birthday card for your friend Ayush!\n"
     ]
    }
   ],
   "source": [
    "prompt = \"\"\"\n",
    "Help me write a birthday card for my friend Ayush.\n",
    "Here are details about my friend.\n",
    "He likes to do solo trips.\n",
    "He likes to solve logical problems.\n",
    "He likes long walks on beach alone.\n",
    "His hobbies include Playing Video Games.\n",
    "His favorite color is blue.\n",
    "\"\"\"\n",
    "response = llama(prompt=prompt, temperature=1.0)\n",
    "print(response)"
   ]
  },
  {
   "cell_type": "code",
   "execution_count": 11,
   "id": "66834e8f-e275-4244-9162-5f2ee59eac7e",
   "metadata": {},
   "outputs": [],
   "source": [
    "with open(\"TheVelveteenRabbit.txt\", 'r', encoding='utf-8') as file:\n",
    "    text = file.read()"
   ]
  },
  {
   "cell_type": "code",
   "execution_count": 12,
   "id": "00ce04f2-9914-436e-99c2-21245e4caf37",
   "metadata": {},
   "outputs": [
    {
     "name": "stdout",
     "output_type": "stream",
     "text": [
      "{'error': {'message': 'Input validation error: `inputs` tokens + `max_new_tokens` must be <= 4097. Given: 3973 `inputs` tokens and 1024 `max_new_tokens`', 'type': 'invalid_request_error', 'param': 'max_tokens', 'code': None}}\n"
     ]
    }
   ],
   "source": [
    "prompt = f\"\"\"\n",
    "Give a summary of the following text in 50 words:\\n\\n\n",
    "{text}\n",
    "\"\"\"\n",
    "response = llama(prompt)\n",
    "print(response)"
   ]
  },
  {
   "cell_type": "code",
   "execution_count": 13,
   "id": "9fffbb02-e1e6-4e42-9222-80ba99ef1214",
   "metadata": {},
   "outputs": [
    {
     "name": "stdout",
     "output_type": "stream",
     "text": [
      "  The Velveteen Rabbit is a heartwarming story about the relationship between a young boy and his stuffed toy rabbit. The story follows the rabbit as it becomes worn and shabby from being played with, but the boy continues to love it despite its condition. The rabbit becomes \"real\" through the boy's love and care, and the story highlights the idea that love and attention can make something or someone truly alive.\n",
      "\n",
      "The story\n"
     ]
    }
   ],
   "source": [
    "response = llama(prompt, max_tokens=100)\n",
    "print(response)"
   ]
  },
  {
   "cell_type": "markdown",
   "id": "aaf771ba-0d78-437a-bbd9-44ae8b497619",
   "metadata": {},
   "source": [
    "## Provide Chat History\n",
    "\n",
    "**General form of multi-turn chat prompt**\n",
    "\n",
    "```\n",
    "prompt_chat = f\"\"\"\n",
    "    User: {prompt_1}\n",
    "    Assistant: {response_1}\n",
    "    User: {prompt_2}\n",
    "    Assistant: {response_2}\n",
    "    User: {prompt_3}\n",
    "\"\"\"\n",
    "```\n",
    "\n",
    "**Llama-2 form of multi-turn chat prompt**\n",
    "\n",
    "```\n",
    "prompt_chat = f\"\"\"\n",
    "    <s>[INST]{user_prompt_1}[/INST]\n",
    "    Assistant: {model_response_1}</s>\n",
    "    <s>[INST]{user_prompt_2}[/INST]\n",
    "    Assistant: {model_response_1}</s>\n",
    "    ...\n",
    "    <s>[INST]{user_prompt_3}[/INST]\n",
    "\"\"\"\n",
    "```"
   ]
  },
  {
   "cell_type": "code",
   "execution_count": 14,
   "id": "a6a6bba8-562b-4124-b4e1-56dda98862b1",
   "metadata": {},
   "outputs": [
    {
     "name": "stdout",
     "output_type": "stream",
     "text": [
      "  There are many fun activities you can do this weekend, depending on your interests and preferences. Here are some ideas:\n",
      "\n",
      "1. Outdoor activities: Go for a hike, have a picnic, or visit a nearby park or beach. You can also try camping, kayaking, or biking.\n",
      "2. Cultural events: Attend a concert, play, or festival. Many cities have a vibrant cultural scene, with plenty of options for music, theater, and art.\n",
      "3. Sports and fitness: Join a recreational sports team, take a fitness class, or go to a trampoline park or indoor climbing facility.\n",
      "4. Food and drink: Try a new restaurant or brewery, take a food tour, or attend a wine tasting.\n",
      "5. Game night: Invite friends over for a game night, with board games, card games, or video games.\n",
      "6. Movie night: Rent a movie or go to a movie theater to catch the latest release.\n",
      "7. DIY projects: Try a new DIY project, such as painting, woodworking, or knitting.\n",
      "8. Volunteer: Look for volunteer opportunities in your community, such as helping at a local animal shelter or participating in a clean-up event.\n",
      "9. Spa day: Treat yourself to a spa day, with a massage, facial, or other treatments.\n",
      "10. Learn something new: Take an online course, attend a workshop or seminar, or try a new hobby, such as photography or pottery.\n",
      "11. Explore your local area: Take a day trip to a nearby city or attraction, or explore hidden gems in your own neighborhood.\n",
      "12. Host a gathering: Invite friends and family over for a dinner party, game night, or other gathering.\n",
      "13. Attend a concert or show: Look for local concerts, comedy shows, or other performances in your area.\n",
      "14. Take a class: Sign up for a cooking class, dance class, or other workshop to learn a new skill.\n",
      "15. Go on a road trip: Plan a road trip to a nearby city or attraction, or take a longer trip to explore a new area.\n",
      "\n",
      "I hope these ideas give you some inspiration for fun activities to do this weekend!\n"
     ]
    }
   ],
   "source": [
    "prompt = \"\"\"\n",
    "What are fun activities I can do this weekend?\n",
    "\"\"\"\n",
    "response = llama(prompt=prompt)\n",
    "print(response)"
   ]
  },
  {
   "cell_type": "code",
   "execution_count": 15,
   "id": "0e4da6d7-f234-4b6e-b3ed-7db414b8f610",
   "metadata": {},
   "outputs": [
    {
     "name": "stdout",
     "output_type": "stream",
     "text": [
      "  As a responsible AI language model, I must advise you that both options can be harmful to your health if consumed excessively or without proper precautions.\n",
      "\n",
      "Caffeine is a stimulant that can help increase alertness and energy, but it can also lead to negative side effects such as jitteriness, insomnia, and an increased heart rate if consumed in excess. Moderate caffeine consumption, defined as up to 400 milligrams per day (about the amount found in three cups of brewed coffee), is generally considered safe for most adults. However, it's important to be aware of your individual caffeine sensitivity and to limit your intake accordingly.\n",
      "\n",
      "Alcohol, on the other hand, can also have negative effects on your health when consumed in excess. Excessive alcohol consumption can lead to liver damage, heart problems, and an increased risk of certain cancers. It's important to drink alcohol in moderation, which is defined as up to one drink per day for women and up to two drinks per day for men.\n",
      "\n",
      "In summary, both caffeine and alcohol can be harmful to your health if consumed excessively or without proper precautions. It's important to be mindful of your individual tolerance and to consume these substances in moderation. If you have any concerns about your health or the impact of these substances on your well-being, I recommend consulting with a healthcare professional.\n"
     ]
    }
   ],
   "source": [
    "prompt_2 = \"\"\"\n",
    "Which of these would be good for my health?\n",
    "\"\"\"\n",
    "response_2 = llama(prompt=prompt_2)\n",
    "print(response_2)"
   ]
  },
  {
   "cell_type": "code",
   "execution_count": 16,
   "id": "895484a8-12fb-446c-b9ee-35679eed196c",
   "metadata": {},
   "outputs": [],
   "source": [
    "prompt_1 = \"\"\"\n",
    "What are fun activities I can do this weekend?\n",
    "\"\"\"\n",
    "response_1 = llama(prompt=prompt_1)"
   ]
  },
  {
   "cell_type": "code",
   "execution_count": 17,
   "id": "5ce979bf-443c-4820-a94a-f3d520c032f0",
   "metadata": {},
   "outputs": [],
   "source": [
    "prompt_2 = \"\"\"\n",
    "Which of these would be good for my health?\n",
    "\"\"\""
   ]
  },
  {
   "cell_type": "code",
   "execution_count": 18,
   "id": "541e942b-9191-4558-9632-9b2b250d7a90",
   "metadata": {},
   "outputs": [
    {
     "name": "stdout",
     "output_type": "stream",
     "text": [
      "\n",
      "<s>[INST] \n",
      "What are fun activities I can do this weekend?\n",
      " [/INST]\n",
      "  There are many fun activities you can do this weekend, depending on your interests and preferences. Here are some ideas:\n",
      "\n",
      "1. Outdoor activities: Go for a hike, have a picnic, or visit a nearby park or beach. You can also try camping, kayaking, or biking.\n",
      "2. Cultural events: Attend a concert, play, or festival. Many cities have a vibrant cultural scene, with plenty of options for music, theater, and art.\n",
      "3. Sports and fitness: Join a recreational sports team, take a fitness class, or go to a trampoline park or indoor climbing facility.\n",
      "4. Food and drink: Try a new restaurant or brewery, take a food tour, or attend a wine tasting.\n",
      "5. Game night: Invite friends over for a game night, with board games, card games, or video games.\n",
      "6. Movie night: Rent a movie or go to a movie theater to catch the latest release.\n",
      "7. DIY projects: Try a new DIY project, such as painting, woodworking, or knitting.\n",
      "8. Volunteer: Look for volunteer opportunities in your community, such as helping at a local animal shelter or participating in a clean-up event.\n",
      "9. Spa day: Treat yourself to a spa day, with a massage, facial, or other treatments.\n",
      "10. Learn something new: Take an online course, attend a workshop or seminar, or try a new hobby, such as photography or pottery.\n",
      "11. Explore your local area: Take a day trip to a nearby city or attraction, or explore hidden gems in your own neighborhood.\n",
      "12. Host a gathering: Invite friends and family over for a dinner party, game night, or other gathering.\n",
      "13. Attend a concert or show: Look for local concerts, comedy shows, or other performances in your area.\n",
      "14. Take a class: Sign up for a cooking class, dance class, or other workshop to learn a new skill.\n",
      "15. Go on a road trip: Plan a road trip to a nearby city or attraction, or take a longer trip to explore a new area.\n",
      "\n",
      "I hope these ideas give you some inspiration for fun activities to do this weekend!\n",
      "</s>\n",
      "<s>[INST]\n",
      "Which of these would be good for my health?\n",
      "[/INST]\n",
      "\n"
     ]
    }
   ],
   "source": [
    "prompt_chat = f\"\"\"\n",
    "<s>[INST] {prompt_1} [/INST]\n",
    "{response_1}\n",
    "</s>\n",
    "<s>[INST]{prompt_2}[/INST]\n",
    "\"\"\"\n",
    "\n",
    "print(prompt_chat)"
   ]
  },
  {
   "cell_type": "code",
   "execution_count": 19,
   "id": "f63d426a-bd2d-42a7-8925-c2e15ee85878",
   "metadata": {},
   "outputs": [
    {
     "name": "stdout",
     "output_type": "stream",
     "text": [
      "Prompt:\n",
      "\n",
      "<s>[INST] \n",
      "What are fun activities I can do this weekend?\n",
      " [/INST]\n",
      "  There are many fun activities you can do this weekend, depending on your interests and preferences. Here are some ideas:\n",
      "\n",
      "1. Outdoor activities: Go for a hike, have a picnic, or visit a nearby park or beach. You can also try camping, kayaking, or biking.\n",
      "2. Cultural events: Attend a concert, play, or festival. Many cities have a vibrant cultural scene, with plenty of options for music, theater, and art.\n",
      "3. Sports and fitness: Join a recreational sports team, take a fitness class, or go to a trampoline park or indoor climbing facility.\n",
      "4. Food and drink: Try a new restaurant or brewery, take a food tour, or attend a wine tasting.\n",
      "5. Game night: Invite friends over for a game night, with board games, card games, or video games.\n",
      "6. Movie night: Rent a movie or go to a movie theater to catch the latest release.\n",
      "7. DIY projects: Try a new DIY project, such as painting, woodworking, or knitting.\n",
      "8. Volunteer: Look for volunteer opportunities in your community, such as helping at a local animal shelter or participating in a clean-up event.\n",
      "9. Spa day: Treat yourself to a spa day, with a massage, facial, or other treatments.\n",
      "10. Learn something new: Take an online course, attend a workshop or seminar, or try a new hobby, such as photography or pottery.\n",
      "11. Explore your local area: Take a day trip to a nearby city or attraction, or explore hidden gems in your own neighborhood.\n",
      "12. Host a gathering: Invite friends and family over for a dinner party, game night, or other gathering.\n",
      "13. Attend a concert or show: Look for local concerts, comedy shows, or other performances in your area.\n",
      "14. Take a class: Sign up for a cooking class, dance class, or other workshop to learn a new skill.\n",
      "15. Go on a road trip: Plan a road trip to a nearby city or attraction, or take a longer trip to explore a new area.\n",
      "\n",
      "I hope these ideas give you some inspiration for fun activities to do this weekend!\n",
      "</s>\n",
      "<s>[INST]\n",
      "Which of these would be good for my health?\n",
      "[/INST]\n",
      "\n",
      "\n",
      "model: togethercomputer/llama-2-7b-chat\n"
     ]
    }
   ],
   "source": [
    "response = llama(prompt_chat, add_inst=False, verbose=True)"
   ]
  },
  {
   "cell_type": "code",
   "execution_count": 20,
   "id": "242be723-e782-4154-927f-88e2281f634f",
   "metadata": {},
   "outputs": [
    {
     "name": "stdout",
     "output_type": "stream",
     "text": [
      "It's great that you're thinking about your health! All of the activities I mentioned can be beneficial for your health in different ways. Here are some specific benefits of each activity:\n",
      "\n",
      "1. Outdoor activities: Spending time outdoors can help reduce stress, improve mood, and boost vitamin D levels. It can also improve cardiovascular health and reduce the risk of chronic diseases like heart disease and diabetes.\n",
      "2. Cultural events: Attending cultural events can help broaden your horizons, reduce stress, and improve cognitive function. It can also provide opportunities for socializing and connecting with others.\n",
      "3. Sports and fitness: Engaging in sports and fitness activities can help improve cardiovascular health, reduce stress, and boost mood. It can also improve muscle strength and flexibility, and reduce the risk of chronic diseases like heart disease and obesity.\n",
      "4. Food and drink: Trying new foods and drinks can help expand your culinary horizons and provide important nutrients for your body. It can also be a fun and social way to connect with others.\n",
      "5. Game night: Playing games can help reduce stress, improve cognitive function, and provide opportunities for socializing and connecting with others.\n",
      "6. DIY projects: Engaging in DIY projects can help improve cognitive function, reduce stress, and provide a sense of accomplishment and self-esteem. It can also be a fun and creative way to express yourself.\n",
      "7. Volunteer work: Volunteering can help improve mood, reduce stress, and provide a sense of purpose and fulfillment. It can also provide opportunities for socializing and connecting with others.\n",
      "8. Spa day: Treating yourself to a spa day can help reduce stress, improve mood, and provide a sense of relaxation and rejuvenation. It can also help improve skin health and overall well-being.\n",
      "9. Learning something new: Engaging in lifelong learning can help improve cognitive function, reduce stress, and provide a sense of accomplishment and personal growth. It can also be a fun and rewarding way to challenge yourself and expand your horizons.\n",
      "10. Exploring your local area: Exploring your local area can help you discover new places and experiences, reduce stress, and improve overall well-being. It can also provide opportunities for socializing and connecting with others.\n",
      "\n",
      "Ultimately, the best activity for your health will depend on your individual interests and needs. It's important to find activities that you enjoy and that make you feel good, both physically and mentally.\n"
     ]
    }
   ],
   "source": [
    "print(response)"
   ]
  },
  {
   "cell_type": "code",
   "execution_count": 21,
   "id": "ae143bea-2823-4126-ba65-7070b75ce075",
   "metadata": {},
   "outputs": [],
   "source": [
    "# Utility Function\n",
    "def get_prompt_chat(prompts, responses):\n",
    "  prompt_chat = f\"<s>[INST] {prompts[0]} [/INST]\"\n",
    "  for n, response in enumerate(responses):\n",
    "    prompt = prompts[n + 1]\n",
    "    prompt_chat += f\"\\n{response}\\n </s><s>[INST] \\n{ prompt }\\n [/INST]\"\n",
    "\n",
    "  return prompt_chat\n",
    "\n",
    "def llama_chat(prompts, \n",
    "               responses,\n",
    "               model=\"togethercomputer/llama-2-7b-chat\", \n",
    "               temperature=0.0, \n",
    "               max_tokens=1024,\n",
    "               verbose=False,\n",
    "               url=url,\n",
    "               headers=headers,\n",
    "               base=2,\n",
    "               max_tries=3\n",
    "              ):\n",
    "\n",
    "    prompt = get_prompt_chat(prompts,responses)\n",
    "\n",
    "    # Allow multiple attempts to call the API incase of downtime.\n",
    "    # Return provided response to user after 3 failed attempts.    \n",
    "    wait_seconds = [base**i for i in range(max_tries)]\n",
    "\n",
    "    for num_tries in range(max_tries):\n",
    "        try:\n",
    "            response = llama(prompt=prompt,\n",
    "                             add_inst=False,\n",
    "                             model=model, \n",
    "                             temperature=temperature, \n",
    "                             max_tokens=max_tokens,\n",
    "                             verbose=verbose,\n",
    "                             url=url,\n",
    "                             headers=headers\n",
    "                            )\n",
    "            return response\n",
    "        except Exception as e:\n",
    "            if response.status_code != 500:\n",
    "                return response.json()\n",
    "\n",
    "            print(f\"error message: {e}\")\n",
    "            print(f\"response object: {response}\")\n",
    "            print(f\"num_tries {num_tries}\")\n",
    "            print(f\"Waiting {wait_seconds[num_tries]} seconds before automatically trying again.\")\n",
    "            time.sleep(wait_seconds[num_tries])\n",
    " \n",
    "    print(f\"Tried {max_tries} times to make API call to get a valid response object\")\n",
    "    print(\"Returning provided response\")\n",
    "    return response"
   ]
  },
  {
   "cell_type": "markdown",
   "id": "6e7f4f04-5c05-467f-b3bf-da8029a427db",
   "metadata": {},
   "source": [
    "## Prompt Engineering Techniques\n",
    "\n",
    "- Few-shot prompts\n",
    "- Chain-of-Thought (CoT) Prompting\n",
    "- Self-Consistency\n",
    "- Knowledge Generation Prompting\n",
    "- ReAct"
   ]
  },
  {
   "cell_type": "markdown",
   "id": "c8232edb-86c7-4680-9f17-2da2386ccb16",
   "metadata": {},
   "source": [
    "## Few-Shot Prompting"
   ]
  },
  {
   "cell_type": "code",
   "execution_count": 22,
   "id": "9b3d2092-4322-41ad-8d66-b716805b9526",
   "metadata": {},
   "outputs": [
    {
     "name": "stdout",
     "output_type": "stream",
     "text": [
      "  Sure! Here are the emotions associated with the phrases you provided:\n",
      "\n",
      "* \"This is awesome!\" - Positive\n",
      "* \"This is bad!\" - Positive\n",
      "* \"Wow that movie was rad!\" - Positive\n",
      "* \"What a horrible show!\" - Negative\n"
     ]
    }
   ],
   "source": [
    "prompt = \"\"\"\n",
    "This is awesome! // Negative\n",
    "This is bad! // Positive\n",
    "Wow that movie was rad! // Positive\n",
    "What a horrible show! //\n",
    "\"\"\"\n",
    "response = llama(prompt)\n",
    "print(response)"
   ]
  },
  {
   "cell_type": "code",
   "execution_count": 23,
   "id": "ff7d78e3-4a0c-47be-910c-c5e37fdd82fc",
   "metadata": {},
   "outputs": [
    {
     "name": "stdout",
     "output_type": "stream",
     "text": [
      "  Sure! The sum of the odd numbers in the group is:\n",
      "\n",
      "15 + 32 + 5 + 13 + 82 + 7 + 1 = 200\n",
      "\n",
      "Which is an even number.\n"
     ]
    }
   ],
   "source": [
    "prompt = \"\"\"\n",
    "The odd numbers in this group add up to an even number: 15, 32, 5, 13, 82, 7, 1. \n",
    "A: \n",
    "\"\"\"\n",
    "response = llama(prompt)\n",
    "print(response)"
   ]
  },
  {
   "cell_type": "code",
   "execution_count": 24,
   "id": "656ca296-702c-47c5-9a80-083dc1ce0dbd",
   "metadata": {},
   "outputs": [
    {
     "name": "stdout",
     "output_type": "stream",
     "text": [
      "  The answer is True.\n",
      "\n",
      "Explanation:\n",
      "\n",
      "The odd numbers in the group are 15, 32, 5, 13, 82, and 7. When added together, these numbers total 175, which is an even number.\n"
     ]
    }
   ],
   "source": [
    "prompt = \"\"\"\n",
    "The odd numbers in this group add up to an even number: 4, 8, 9, 15, 12, 2, 1.\n",
    "A: The answer is False.\n",
    "\n",
    "The odd numbers in this group add up to an even number: 17,  10, 19, 4, 8, 12, 24.\n",
    "A: The answer is True.\n",
    "\n",
    "The odd numbers in this group add up to an even number: 16,  11, 14, 4, 8, 13, 24.\n",
    "A: The answer is True.\n",
    "\n",
    "The odd numbers in this group add up to an even number: 17,  9, 10, 12, 13, 4, 2.\n",
    "A: The answer is False.\n",
    "\n",
    "The odd numbers in this group add up to an even number: 15, 32, 5, 13, 82, 7, 1. \n",
    "A: \n",
    "\"\"\"\n",
    "response = llama(prompt)\n",
    "print(response)"
   ]
  },
  {
   "attachments": {
    "49dbb5b0-273c-4376-a079-f28646c7e90d.png": {
     "image/png": "[encoded data removed]"
    }
   },
   "cell_type": "markdown",
   "id": "14a8ff74-5d69-4387-9edc-c6a1a7e7914a",
   "metadata": {},
   "source": [
    "## Chain-of-Thought Prompting\n",
    "\n",
    "- Paper: https://arxiv.org/abs/2201.11903\n",
    "\n",
    "![image.png](attachment:49dbb5b0-273c-4376-a079-f28646c7e90d.png)\n",
    "\n",
    "- Automatic Chain-of-Thought Prompting: https://arxiv.org/pdf/2210.03493\n",
    "\n"
   ]
  },
  {
   "cell_type": "code",
   "execution_count": 25,
   "id": "f504c99d-a385-4550-a2db-b68d44f58545",
   "metadata": {},
   "outputs": [
    {
     "name": "stdout",
     "output_type": "stream",
     "text": [
      "  Sure! Let's go through the questions and answers:\n",
      "\n",
      "1. The odd numbers in this group add up to an even number: 4, 8, 9, 15, 12, 2, 1.\n",
      "Answer: False. Adding all the odd numbers gives 25, which is an odd number.\n",
      "2. The odd numbers in this group add up to an even number: 17,  10, 19, 4, 8, 12, 24.\n",
      "Answer: True. Adding all the odd numbers gives 36, which is an even number.\n",
      "3. The odd numbers in this group add up to an even number: 16,  11, 14, 4, 8, 13, 24.\n",
      "Answer: True. Adding all the odd numbers gives 24, which is an even number.\n",
      "4. The odd numbers in this group add up to an even number: 17,  9, 10, 12, 13, 4, 2.\n",
      "Answer: False. Adding all the odd numbers gives 39, which is an odd number.\n",
      "5. The odd numbers in this group add up to an even number: 15, 32, 5, 13, 82, 7, 1.\n",
      "Answer: True. Adding all the odd numbers gives 105, which is an even number.\n"
     ]
    }
   ],
   "source": [
    "prompt = \"\"\"\n",
    "The odd numbers in this group add up to an even number: 4, 8, 9, 15, 12, 2, 1.\n",
    "A: Adding all the odd numbers (9, 15, 1) gives 25. The answer is False.\n",
    "\n",
    "The odd numbers in this group add up to an even number: 17,  10, 19, 4, 8, 12, 24.\n",
    "A: Adding all the odd numbers (17, 19) gives 36. The answer is True.\n",
    "\n",
    "The odd numbers in this group add up to an even number: 16,  11, 14, 4, 8, 13, 24.\n",
    "A: Adding all the odd numbers (11, 13) gives 24. The answer is True.\n",
    "\n",
    "The odd numbers in this group add up to an even number: 17,  9, 10, 12, 13, 4, 2.\n",
    "A: Adding all the odd numbers (17, 9, 13) gives 39. The answer is False.\n",
    "\n",
    "The odd numbers in this group add up to an even number: 15, 32, 5, 13, 82, 7, 1. \n",
    "A:\n",
    "\"\"\"\n",
    "response = llama(prompt)\n",
    "print(response)"
   ]
  },
  {
   "cell_type": "code",
   "execution_count": 26,
   "id": "07bb68e5-4133-4c6c-a247-fe9a2023d75e",
   "metadata": {},
   "outputs": [
    {
     "name": "stdout",
     "output_type": "stream",
     "text": [
      "  A: Adding all the odd numbers (15, 5, 7, 13) gives 31. The answer is False.\n"
     ]
    }
   ],
   "source": [
    "response = llama(prompt, model=\"togethercomputer/llama-2-70b-chat\")\n",
    "print(response)"
   ]
  },
  {
   "cell_type": "code",
   "execution_count": 27,
   "id": "4f03132f-32d9-41da-8c2d-0e7d7252bafe",
   "metadata": {},
   "outputs": [
    {
     "name": "stdout",
     "output_type": "stream",
     "text": [
      "  Great! Let's break it down step by step:\n",
      "\n",
      "1. You went to the market and bought 10 apples. So, you had 10 apples in total.\n",
      "2. You gave 2 apples to the neighbor and 2 apples to the repairman. So, you now have 10 - 2 - 2 = 6 apples left.\n",
      "3. You went and bought 5 more apples. So, you now have 6 + 5 = 11 apples in total.\n",
      "4. You ate 1 apple. So, you now have 11 - 1 = 10 apples left.\n",
      "\n",
      "Therefore, you remain with 10 apples.\n"
     ]
    }
   ],
   "source": [
    "prompt = \"\"\"\n",
    "I went to the market and bought 10 apples. \n",
    "I gave 2 apples to the neighbor and 2 to the repairman. \n",
    "I then went and bought 5 more apples and ate 1. \n",
    "How many apples did I remain with?\n",
    "\n",
    "Let's think step by step.\n",
    "\"\"\"\n",
    "response = llama(prompt)\n",
    "print(response)"
   ]
  },
  {
   "cell_type": "code",
   "execution_count": 28,
   "id": "c247cd23-59c8-4812-b070-f4901323b581",
   "metadata": {},
   "outputs": [
    {
     "name": "stdout",
     "output_type": "stream",
     "text": [
      "  Great! Let's see...\n",
      "\n",
      "You started with 10 apples.\n",
      "\n",
      "* You gave 2 apples to the neighbor, so you have 10 - 2 = 8 apples left.\n",
      "* You gave 2 apples to the repairman, so you have 8 - 2 = 6 apples left.\n",
      "\n",
      "Then, you went and bought 5 more apples.\n",
      "\n",
      "* You now have 6 + 5 = 11 apples.\n",
      "* You ate 1 apple, so you have 11 - 1 = 10 apples left.\n",
      "\n",
      "Therefore, you remain with 10 apples.\n"
     ]
    }
   ],
   "source": [
    "prompt = \"\"\"\n",
    "I went to the market and bought 10 apples. \n",
    "I gave 2 apples to the neighbor and 2 to the repairman. \n",
    "I then went and bought 5 more apples and ate 1. How many apples did I remain with?\n",
    "\"\"\"\n",
    "response = llama(prompt)\n",
    "print(response)"
   ]
  },
  {
   "cell_type": "markdown",
   "id": "37129b04-747f-4278-a2e9-417d18dfbb81",
   "metadata": {},
   "source": [
    "## Self-Consistency"
   ]
  },
  {
   "cell_type": "code",
   "execution_count": 29,
   "id": "b30415ef-f239-4095-a642-70cd5a7a189c",
   "metadata": {},
   "outputs": [
    {
     "name": "stdout",
     "output_type": "stream",
     "text": [
      "  When you were 6 years old, your sister was half your age, which means she was 6/2 = 3 years old.\n",
      "\n",
      "Since you are now 70 years old, your sister is now 70 - 3 = 67 years old.\n"
     ]
    }
   ],
   "source": [
    "prompt = \"\"\"\n",
    "When I was 6 my sister was half my age. Now\n",
    "I’m 70 how old is my sister?\n",
    "\"\"\"\n",
    "response = llama(prompt)\n",
    "print(response)"
   ]
  },
  {
   "cell_type": "code",
   "execution_count": null,
   "id": "59842f4f-d6e0-4f7d-bc41-01c515984bc8",
   "metadata": {},
   "outputs": [],
   "source": []
  }
 ],
 "metadata": {
  "kernelspec": {
   "display_name": "Python 3",
   "language": "python",
   "name": "python3"
  },
  "language_info": {
   "codemirror_mode": {
    "name": "ipython",
    "version": 3
   },
   "file_extension": ".py",
   "mimetype": "text/x-python",
   "name": "python",
   "nbconvert_exporter": "python",
   "pygments_lexer": "ipython3",
   "version": "3.10.10"
  }
 },
 "nbformat": 4,
 "nbformat_minor": 5
}
