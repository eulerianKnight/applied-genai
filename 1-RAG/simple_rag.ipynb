{
 "cells": [
  {
   "cell_type": "code",
   "execution_count": 1,
   "metadata": {},
   "outputs": [],
   "source": [
    "import requests\n",
    "\n",
    "# Get Wikipedia page for 2023 Turkey-Syria Earthquake\n",
    "params = {\n",
    "    \"action\": \"query\", \n",
    "    \"prop\": \"extracts\", \n",
    "    \"exlimit\": 1, \n",
    "    \"titles\": \"2023_Turkey-Syria_earthquake\", \n",
    "    \"explaintext\": 1, \n",
    "    \"formatversion\": 2, \n",
    "    \"format\": \"json\"\n",
    "}\n",
    "resp = requests.get(\"https://en.wikipedia.org/w/api.php\", params=params)\n",
    "response_dict = resp.json()"
   ]
  },
  {
   "cell_type": "code",
   "execution_count": 4,
   "metadata": {},
   "outputs": [
    {
     "data": {
      "text/plain": [
       "['']"
      ]
     },
     "execution_count": 4,
     "metadata": {},
     "output_type": "execute_result"
    }
   ],
   "source": [
    "text_data = response_dict[\"query\"][\"pages\"][0][\"extract\"].split(\"\\n\")\n",
    "text_data"
   ]
  },
  {
   "cell_type": "code",
   "execution_count": 9,
   "metadata": {},
   "outputs": [
    {
     "name": "stdout",
     "output_type": "stream",
     "text": [
      "\n",
      "\n"
     ]
    }
   ],
   "source": [
    "import requests\n",
    "from bs4 import BeautifulSoup\n",
    "\n",
    "def extract_wikipedia_page_content(title):\n",
    "    # Format the title to be URL-friendly\n",
    "    formatted_title = title.replace(' ', '_')\n",
    "    url = f\"https://en.wikipedia.org/wiki/{formatted_title}\"\n",
    "\n",
    "    response = requests.get(url)\n",
    "\n",
    "    if response.status_code != 200:\n",
    "        return f\"Error: Unable to access page titled '{title}'.\"\n",
    "\n",
    "    soup = BeautifulSoup(response.content, 'html.parser')\n",
    "\n",
    "    # Find the content text\n",
    "    content_div = soup.find('div', {'class': 'mw-parser-output'})\n",
    "    if not content_div:\n",
    "        return f\"Error: Unable to find content for page titled '{title}'.\"\n",
    "\n",
    "    # Extract all paragraphs within the content div\n",
    "    paragraphs = content_div.find_all('p')\n",
    "    page_content = [para.get_text() for para in paragraphs]\n",
    "\n",
    "    return page_content\n",
    "\n",
    "# Example usage\n",
    "title = \"GPT-4\"\n",
    "page_content = extract_wikipedia_page_content(title)\n",
    "print(page_content[0])"
   ]
  },
  {
   "cell_type": "code",
   "execution_count": 11,
   "metadata": {},
   "outputs": [
    {
     "data": {
      "text/html": [
       "<div>\n",
       "<style scoped>\n",
       "    .dataframe tbody tr th:only-of-type {\n",
       "        vertical-align: middle;\n",
       "    }\n",
       "\n",
       "    .dataframe tbody tr th {\n",
       "        vertical-align: top;\n",
       "    }\n",
       "\n",
       "    .dataframe thead th {\n",
       "        text-align: right;\n",
       "    }\n",
       "</style>\n",
       "<table border=\"1\" class=\"dataframe\">\n",
       "  <thead>\n",
       "    <tr style=\"text-align: right;\">\n",
       "      <th></th>\n",
       "      <th>text</th>\n",
       "    </tr>\n",
       "  </thead>\n",
       "  <tbody>\n",
       "    <tr>\n",
       "      <th>0</th>\n",
       "      <td>\\n</td>\n",
       "    </tr>\n",
       "    <tr>\n",
       "      <th>1</th>\n",
       "      <td>Generative Pre-trained Transformer 4 (GPT-4) i...</td>\n",
       "    </tr>\n",
       "    <tr>\n",
       "      <th>2</th>\n",
       "      <td>Observers reported that the iteration of ChatG...</td>\n",
       "    </tr>\n",
       "    <tr>\n",
       "      <th>3</th>\n",
       "      <td>OpenAI introduced the first GPT model (GPT-1) ...</td>\n",
       "    </tr>\n",
       "    <tr>\n",
       "      <th>4</th>\n",
       "      <td>Rumors claim that GPT-4 has 1.76 trillion para...</td>\n",
       "    </tr>\n",
       "  </tbody>\n",
       "</table>\n",
       "</div>"
      ],
      "text/plain": [
       "                                                text\n",
       "0                                                 \\n\n",
       "1  Generative Pre-trained Transformer 4 (GPT-4) i...\n",
       "2  Observers reported that the iteration of ChatG...\n",
       "3  OpenAI introduced the first GPT model (GPT-1) ...\n",
       "4  Rumors claim that GPT-4 has 1.76 trillion para..."
      ]
     },
     "execution_count": 11,
     "metadata": {},
     "output_type": "execute_result"
    }
   ],
   "source": [
    "import pandas as pd\n",
    "\n",
    "# Load page content into dataframe\n",
    "df = pd.DataFrame()\n",
    "df['text'] = page_content\n",
    "\n",
    "# CLean dataframe to remove empty cells\n",
    "df = df[(\n",
    "    (df[\"text\"].str.len() > 0) & (~df[\"text\"].str.startswith(\"==\"))\n",
    ")].reset_index(drop=True)\n",
    "df.head()"
   ]
  },
  {
   "cell_type": "markdown",
   "metadata": {},
   "source": [
    "## Create Embeddings Index"
   ]
  },
  {
   "cell_type": "code",
   "execution_count": null,
   "metadata": {},
   "outputs": [],
   "source": [
    "from openai import OpenAI\n",
    "client = OpenAI()\n",
    "\n",
    "def get_embedding(text, model=\"text-embedding-3-small\"):\n",
    "   text = text.replace(\"\\n\", \" \")\n",
    "   return client.embeddings.create(input = [text], model=model).data[0].embedding\n",
    "\n",
    "df['ada_embedding'] = df.combined.apply(lambda x: get_embedding(x, model='text-embedding-3-small'))\n",
    "df.to_csv('output/embedded.csv', index=False)"
   ]
  }
 ],
 "metadata": {
  "kernelspec": {
   "display_name": "cloudspace",
   "language": "python",
   "name": "python3"
  },
  "language_info": {
   "codemirror_mode": {
    "name": "ipython",
    "version": 3
   },
   "file_extension": ".py",
   "mimetype": "text/x-python",
   "name": "python",
   "nbconvert_exporter": "python",
   "pygments_lexer": "ipython3",
   "version": "3.10.10"
  }
 },
 "nbformat": 4,
 "nbformat_minor": 2
}
